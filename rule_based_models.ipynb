{
 "cells": [
  {
   "cell_type": "code",
   "execution_count": 3,
   "metadata": {
    "colab": {
     "base_uri": "https://localhost:8080/",
     "height": 51
    },
    "colab_type": "code",
    "id": "8c1EKdA_TTCr",
    "outputId": "8ab23d12-9f3c-4ec0-b673-36fce615ebae"
   },
   "outputs": [
    {
     "name": "stderr",
     "output_type": "stream",
     "text": [
      "[nltk_data] Downloading package vader_lexicon to\n",
      "[nltk_data]     /home/andriiprysiazhnyk/nltk_data...\n",
      "[nltk_data]   Package vader_lexicon is already up-to-date!\n"
     ]
    }
   ],
   "source": [
    "import os\n",
    "import numpy as np\n",
    "import nltk\n",
    "nltk.download('vader_lexicon')\n",
    "from nltk.sentiment.vader import SentimentIntensityAnalyzer\n",
    "from farm_data_generator import load_text_data"
   ]
  },
  {
   "cell_type": "code",
   "execution_count": 0,
   "metadata": {
    "colab": {},
    "colab_type": "code",
    "id": "o8DdyCSdTkyL"
   },
   "outputs": [],
   "source": [
    "X_test, y_test = load_text_data(\"cleaned_data/test\")"
   ]
  },
  {
   "cell_type": "code",
   "execution_count": 53,
   "metadata": {
    "colab": {
     "base_uri": "https://localhost:8080/",
     "height": 34
    },
    "colab_type": "code",
    "id": "FFLKEe1sTnn_",
    "outputId": "d9fc812d-4523-47a8-e54d-93f5b49de961"
   },
   "outputs": [
    {
     "name": "stdout",
     "output_type": "stream",
     "text": [
      "Vader model accuracy = 0.691911053818885\n"
     ]
    }
   ],
   "source": [
    "vader_model = SentimentIntensityAnalyzer()\n",
    "\n",
    "y_pred = []\n",
    "for review in X_test:\n",
    "    result = vader_model.polarity_scores(review)\n",
    "    y_pred.append(1 if result[\"pos\"] > result[\"neg\"] else 0)\n",
    "\n",
    "print(f\"Vader model accuracy = {np.mean(np.array(y_pred) == y_test)}\")"
   ]
  },
  {
   "cell_type": "code",
   "execution_count": 0,
   "metadata": {
    "colab": {},
    "colab_type": "code",
    "id": "ehKaPfHGTy1c"
   },
   "outputs": [],
   "source": [
    "from textblob import TextBlob"
   ]
  },
  {
   "cell_type": "code",
   "execution_count": 56,
   "metadata": {
    "colab": {
     "base_uri": "https://localhost:8080/",
     "height": 34
    },
    "colab_type": "code",
    "id": "UzXIMlkBT-4E",
    "outputId": "7660664d-6fb5-4213-9ec3-f1635cc77568"
   },
   "outputs": [
    {
     "name": "stdout",
     "output_type": "stream",
     "text": [
      "TextBlob accuracy = 0.6969867869803416\n"
     ]
    }
   ],
   "source": [
    "y_pred = []\n",
    "for review in X_test:\n",
    "    sentence = TextBlob(review)\n",
    "    y_pred.append(1 if sentence.sentiment.polarity > 0 else 0)\n",
    "\n",
    "print(f\"TextBlob accuracy = {np.mean(np.array(y_pred) == y_test)}\")"
   ]
  }
 ],
 "metadata": {
  "accelerator": "GPU",
  "colab": {
   "collapsed_sections": [],
   "name": "ready_models.ipynb",
   "provenance": []
  },
  "kernelspec": {
   "display_name": "Python 3",
   "language": "python",
   "name": "python3"
  },
  "language_info": {
   "codemirror_mode": {
    "name": "ipython",
    "version": 3
   },
   "file_extension": ".py",
   "mimetype": "text/x-python",
   "name": "python",
   "nbconvert_exporter": "python",
   "pygments_lexer": "ipython3",
   "version": "3.7.5"
  }
 },
 "nbformat": 4,
 "nbformat_minor": 1
}
