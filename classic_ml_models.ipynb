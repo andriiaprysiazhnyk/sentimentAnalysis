{
 "cells": [
  {
   "cell_type": "code",
   "execution_count": 1,
   "metadata": {},
   "outputs": [],
   "source": [
    "import os\n",
    "import yaml\n",
    "import numpy as np\n",
    "import pandas as pd\n",
    "\n",
    "from sklearn.pipeline import Pipeline\n",
    "from sklearn.feature_extraction.text import TfidfVectorizer\n",
    "from sklearn.naive_bayes import MultinomialNB\n",
    "from sklearn.linear_model import LogisticRegression\n",
    "from sklearn.ensemble import RandomForestClassifier\n",
    "\n",
    "from definitions import CONFIG_PATH\n",
    "from data_reader import load_text_data\n",
    "\n",
    "import warnings\n",
    "warnings.filterwarnings('ignore')"
   ]
  },
  {
   "cell_type": "code",
   "execution_count": 2,
   "metadata": {},
   "outputs": [],
   "source": [
    "with open(CONFIG_PATH, \"r\") as config_file:\n",
    "    config = yaml.full_load(config_file)\n",
    "    cleaned_data_path = config[\"cleaned_data_path\"]\n",
    "    stemmed_data_path = config[\"stemmed_data_path\"]"
   ]
  },
  {
   "cell_type": "code",
   "execution_count": 3,
   "metadata": {},
   "outputs": [],
   "source": [
    "X_train, y_train = load_text_data(os.path.join(cleaned_data_path, \"train\"))\n",
    "X_val, y_val = load_text_data(os.path.join(cleaned_data_path, \"validation\"))\n",
    "X_test, y_test = load_text_data(os.path.join(cleaned_data_path, \"test\"))"
   ]
  },
  {
   "cell_type": "code",
   "execution_count": 4,
   "metadata": {},
   "outputs": [],
   "source": [
    "def model_summary(model, parameter_name, parameter_values):\n",
    "    best_accuracy = float(\"-inf\")\n",
    "    for parameter in parameter_values:\n",
    "        model.set_params(**{parameter_name: parameter})\n",
    "        model.fit(X_train, y_train)\n",
    "        validation_accuracy = np.mean(y_val == model.predict(X_val))\n",
    "        \n",
    "        if validation_accuracy > best_accuracy:\n",
    "            best_param, best_accuracy = parameter, validation_accuracy\n",
    "    \n",
    "    model.set_params(**{parameter_name: best_param})\n",
    "    model.fit(X_train, y_train)\n",
    "    test_accuracy = np.mean(y_test == model.predict(X_test))\n",
    "    print(f\"Best parameter = {best_param}; best validation accuracy = {best_accuracy}; test accuracy = {test_accuracy}\")"
   ]
  },
  {
   "cell_type": "code",
   "execution_count": 13,
   "metadata": {},
   "outputs": [
    {
     "name": "stdout",
     "output_type": "stream",
     "text": [
      "Best parameter = (1, 3); best validation accuracy = 0.8746374476313246; test accuracy = 0.8793909120206252\n"
     ]
    }
   ],
   "source": [
    "naive_bayes_clf = Pipeline([\n",
    "    ('tfidf', TfidfVectorizer()),\n",
    "    ('clf', MultinomialNB())\n",
    "])\n",
    "\n",
    "model_summary(naive_bayes_clf, \"tfidf__ngram_range\", [(1, 1), (1, 2), (1, 3)])"
   ]
  },
  {
   "cell_type": "code",
   "execution_count": 6,
   "metadata": {},
   "outputs": [
    {
     "name": "stdout",
     "output_type": "stream",
     "text": [
      "Best parameter = 10; best validation accuracy = 0.88208; test accuracy = 0.87968\n"
     ]
    }
   ],
   "source": [
    "logistic_regression_clf = Pipeline([\n",
    "    ('tfidf', TfidfVectorizer()),\n",
    "    ('clf', LogisticRegression())\n",
    "])\n",
    "\n",
    "model_summary(logistic_regression_clf, \"clf__C\", [0.01, 0.1, 1, 10, 100])"
   ]
  },
  {
   "cell_type": "code",
   "execution_count": 15,
   "metadata": {},
   "outputs": [
    {
     "name": "stdout",
     "output_type": "stream",
     "text": [
      "Best parameter = 100; best validation accuracy = 0.8320979697067354; test accuracy = 0.8361263293586851\n"
     ]
    }
   ],
   "source": [
    "random_forest_clf = Pipeline([\n",
    "    ('tfidf', TfidfVectorizer()),\n",
    "    ('clf', RandomForestClassifier())\n",
    "])\n",
    "\n",
    "model_summary(random_forest_clf, \"clf__n_estimators\", [10, 50, 100])"
   ]
  },
  {
   "cell_type": "code",
   "execution_count": 16,
   "metadata": {},
   "outputs": [],
   "source": [
    "X_train, y_train = load_text_data(\"stemmed_data/train\")\n",
    "X_val, y_val = load_text_data(\"stemmed_data/validation\")\n",
    "X_test, y_test = load_text_data(\"stemmed_data/test\")"
   ]
  },
  {
   "cell_type": "code",
   "execution_count": 21,
   "metadata": {},
   "outputs": [
    {
     "name": "stdout",
     "output_type": "stream",
     "text": [
      "Best parameter = (1, 3); best validation accuracy = 0.8752014179825975; test accuracy = 0.8801965839510152\n"
     ]
    }
   ],
   "source": [
    "model_summary(naive_bayes_clf, \"tfidf__ngram_range\", [(1, 1), (1, 2), (1, 3)])"
   ]
  },
  {
   "cell_type": "code",
   "execution_count": 18,
   "metadata": {},
   "outputs": [
    {
     "name": "stdout",
     "output_type": "stream",
     "text": [
      "Best parameter = 1; best validation accuracy = 0.8796326135997422; test accuracy = 0.8785852400902353\n"
     ]
    }
   ],
   "source": [
    "model_summary(logistic_regression_clf, \"clf__C\", [0.01, 0.1, 1, 10, 100])"
   ]
  },
  {
   "cell_type": "code",
   "execution_count": 19,
   "metadata": {},
   "outputs": [
    {
     "name": "stdout",
     "output_type": "stream",
     "text": [
      "Best parameter = 100; best validation accuracy = 0.8336287463744763; test accuracy = 0.8370931356751531\n"
     ]
    }
   ],
   "source": [
    "model_summary(random_forest_clf, \"clf__n_estimators\", [10, 50, 100])"
   ]
  }
 ],
 "metadata": {
  "kernelspec": {
   "display_name": "Python 3",
   "language": "python",
   "name": "python3"
  },
  "language_info": {
   "codemirror_mode": {
    "name": "ipython",
    "version": 3
   },
   "file_extension": ".py",
   "mimetype": "text/x-python",
   "name": "python",
   "nbconvert_exporter": "python",
   "pygments_lexer": "ipython3",
   "version": "3.7.6"
  }
 },
 "nbformat": 4,
 "nbformat_minor": 2
}
